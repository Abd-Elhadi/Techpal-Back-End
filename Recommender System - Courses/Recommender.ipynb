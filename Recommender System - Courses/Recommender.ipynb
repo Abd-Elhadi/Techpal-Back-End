{
 "cells": [
  {
   "cell_type": "code",
   "execution_count": 12,
   "id": "7127c114",
   "metadata": {},
   "outputs": [],
   "source": [
    "from udemy import *\n",
    "import json"
   ]
  },
  {
   "cell_type": "code",
   "execution_count": 13,
   "id": "d7df4c1a",
   "metadata": {},
   "outputs": [],
   "source": [
    "Client = PyUdemy(clientID = 'fXD21XVH7riyVu0jI3e9mXOvJgdS4uuxweSF9kFX', \n",
    "                 clientSecret = 'FKxepGFQz0tynFnh8xbqK2kWiUhXr2DXvfaI86HXIF808BYHbPu3YxsmQ2z8C4jsBBZigD0hJegFKw9hiVLzypNkf0FblcnXBWDBLPs0LHagXRKOtuMdVx9noDndBVOU')"
   ]
  },
  {
   "cell_type": "markdown",
   "id": "25ec02f0",
   "metadata": {},
   "source": [
    "#### There are 3 categories, Development, Design and IT & Software that we are interested in"
   ]
  },
  {
   "cell_type": "code",
   "execution_count": 15,
   "id": "6cf4e090",
   "metadata": {},
   "outputs": [
    {
     "name": "stdout",
     "output_type": "stream",
     "text": [
      "Web Design for Web Developers: Build Beautiful Websites! 4.65\n",
      "Java Tutorial for Complete Beginners 4.75\n",
      "Introduction To Python Programming 4.7\n",
      "C++ Tutorial for Complete Beginners 4.4\n",
      "Javascript Essentials 4.5\n",
      "1 #######################\n"
     ]
    }
   ],
   "source": [
    "# Get Development courses\n",
    "for i in range(1, 101):\n",
    "    courses_list = Client.get_courseslist(page=i,page_size=100, category='Development')\n",
    "    courses = json.loads(courses_list)\n",
    "    for result in courses['results']:\n",
    "        course_detail = Client.get_coursesreviewlist(courseID = result['id'])\n",
    "        course = json.loads(course_detail)\n",
    "        ratings = 0\n",
    "        cnt = 0\n",
    "        for review in course['results']:\n",
    "            ratings += (review['rating'])\n",
    "            cnt += 1\n",
    "        result['ratings'] = ratings / cnt\n",
    "        print(result['title'], result['ratings'])\n",
    "    print(i,'#######################')"
   ]
  },
  {
   "cell_type": "code",
   "execution_count": 18,
   "id": "3ebf2eff",
   "metadata": {},
   "outputs": [
    {
     "name": "stdout",
     "output_type": "stream",
     "text": [
      "Art Fundamentals - Building Blocks of Digital Painting 4.45\n",
      "Photoshop Fundamentals 4.8\n",
      "Free Blender Crash Course! 4.6\n",
      "Concept Art Portfolio Boost 4.75\n",
      "Professional Logo Design in Adobe Illustrator 4.35\n",
      "1 #######################\n",
      "Photoshop CC 2020 Productivity Techniques 4.45\n",
      "Creating Your First Game in Unreal Engine 5 4.2\n",
      "How to Design & Prototype in Adobe XD 4.25\n",
      "Create Your Own Character in Blender 4.45\n",
      "AutoCAD 2D and 3D practice drawings 4.15\n",
      "2 #######################\n",
      "UX/UI Design For Beginners 4.5\n",
      "Introduction to Blueprints for beginners in Unreal Engine 5 3.85\n",
      "Learn 3D Modeling: Blender Basics in Under 2 Hours 4.35\n",
      "Photoshop for Web Design Beginners 4.45\n",
      "Introduction to Blender For Beginners 4.9\n",
      "3 #######################\n",
      "User Experience(UX) Design - Figma UI UX design 3.55\n",
      "Canva |Top 10 Burning Questions & How To's 4.75\n",
      "Adobe InDesign Made Easy. A Beginners Guide To InDesign 4.5\n",
      "Create a modular dungeon in Unity 4.95\n",
      "Blender 3D - Create a Cartoon Character 4.6\n",
      "4 #######################\n"
     ]
    }
   ],
   "source": [
    "# Get Design courses\n",
    "for i in range(1, 101):\n",
    "    courses_list = Client.get_courseslist(page=i,page_size=100, category='Design')\n",
    "    courses = json.loads(courses_list)\n",
    "    for result in courses['results']:\n",
    "        course_detail = Client.get_coursesreviewlist(courseID = result['id'])\n",
    "        course = json.loads(course_detail)\n",
    "        ratings = 0\n",
    "        cnt = 0\n",
    "        for review in course['results']:\n",
    "            ratings += (review['rating'])\n",
    "            cnt += 1\n",
    "        result['ratings'] = ratings / cnt\n",
    "        print(result['title'], result['ratings'])\n",
    "    print(i,'#######################')"
   ]
  }
 ],
 "metadata": {
  "kernelspec": {
   "display_name": "Python 3 (ipykernel)",
   "language": "python",
   "name": "python3"
  },
  "language_info": {
   "codemirror_mode": {
    "name": "ipython",
    "version": 3
   },
   "file_extension": ".py",
   "mimetype": "text/x-python",
   "name": "python",
   "nbconvert_exporter": "python",
   "pygments_lexer": "ipython3",
   "version": "3.9.7"
  }
 },
 "nbformat": 4,
 "nbformat_minor": 5
}
